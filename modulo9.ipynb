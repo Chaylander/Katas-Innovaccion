{
 "cells": [
  {
   "cell_type": "markdown",
   "metadata": {},
   "source": [
    "# Kata 9"
   ]
  },
  {
   "cell_type": "code",
   "execution_count": 31,
   "metadata": {},
   "outputs": [
    {
     "name": "stdout",
     "output_type": "stream",
     "text": [
      "El nivel de los tanques es el siguiente:30, 70, 99. El promedio es de 66.33333333333333\n"
     ]
    },
    {
     "data": {
      "text/plain": [
       "66.66666666666667"
      ]
     },
     "execution_count": 31,
     "metadata": {},
     "output_type": "execute_result"
    }
   ],
   "source": [
    "def gas_tank_check (lvl1, lvl2, lvl3):\n",
    "    Gas_promedio = (lvl1+lvl2+lvl3)/3\n",
    "    print(f'El nivel de los tanques es el siguiente:{lvl1}, {lvl2}, {lvl3}. El promedio es de {Gas_promedio}')\n",
    "\n",
    "\n",
    "gas_tank_check(30,70,99)\n",
    "\n",
    "# Función promedio \n",
    "def promedio (values):\n",
    "    suma = sum(values)\n",
    "    numero_de_tanques=len(values)\n",
    "    average = suma/numero_de_tanques\n",
    "\n",
    "    return average\n",
    "promedio([30,80,90])\n",
    "\n"
   ]
  },
  {
   "cell_type": "code",
   "execution_count": 36,
   "metadata": {},
   "outputs": [
    {
     "name": "stdout",
     "output_type": "stream",
     "text": [
      "El nivel de los tanques es el siguiente:30, 40, 11. El promedio es de 27.0\n",
      "None\n"
     ]
    }
   ],
   "source": [
    "print(gas_tank_check(30,40,11))"
   ]
  },
  {
   "cell_type": "markdown",
   "metadata": {},
   "source": [
    "* Ejercicio 2 kata 9 Trabajo con argumentos de palabra clave\n"
   ]
  },
  {
   "cell_type": "code",
   "execution_count": 1,
   "metadata": {},
   "outputs": [
    {
     "name": "stdout",
     "output_type": "stream",
     "text": [
      "Mission to: moon\n",
      " prelaunch time :30, \n",
      " external tank lvl:100,\n",
      " internal tank lvl:100,\n",
      " Fligth time: 12\n"
     ]
    }
   ],
   "source": [
    "def completeInfo (prelaunch, fligth_time, destiny, ext_tank, int_tank):\n",
    "    print(f'Mission to: {destiny}\\n prelaunch time :{prelaunch}, \\n external tank lvl:{ext_tank},\\n internal tank lvl:{int_tank},\\n Fligth time: {fligth_time}')\n",
    "\n",
    "completeInfo(30,12,\"moon\",100,100)\n",
    "    "
   ]
  },
  {
   "cell_type": "code",
   "execution_count": 4,
   "metadata": {},
   "outputs": [
    {
     "name": "stdout",
     "output_type": "stream",
     "text": [
      "\n",
      "    destiny: Moon\n",
      "    minutos para despegue: 90 minutes\n",
      "    Gas left: 8000\n",
      "    \n",
      "None\n"
     ]
    }
   ],
   "source": [
    "def completeInfo (Destiny, *minutes, **fuel_reservoirs):\n",
    "    print(f\"\"\"\n",
    "    destiny: {Destiny}\n",
    "    minutos para despegue: {sum(minutes)} minutes\n",
    "    Gas left: {sum(fuel_reservoirs.values())}\n",
    "    \"\"\")\n",
    "\n",
    "print(completeInfo(\"Moon\", 20,30,40, main = 3000, inner = 5000))"
   ]
  }
 ],
 "metadata": {
  "interpreter": {
   "hash": "b2e73303c7964b449604716ff7e7eb2786bcd7baaa7a77de01729f6940e7130c"
  },
  "kernelspec": {
   "display_name": "Python 3.10.2 64-bit",
   "language": "python",
   "name": "python3"
  },
  "language_info": {
   "codemirror_mode": {
    "name": "ipython",
    "version": 3
   },
   "file_extension": ".py",
   "mimetype": "text/x-python",
   "name": "python",
   "nbconvert_exporter": "python",
   "pygments_lexer": "ipython3",
   "version": "3.10.2"
  },
  "orig_nbformat": 4
 },
 "nbformat": 4,
 "nbformat_minor": 2
}
