{
 "cells": [
  {
   "cell_type": "markdown",
   "metadata": {},
   "source": [
    "* Ejercicio 1"
   ]
  },
  {
   "cell_type": "code",
   "execution_count": 2,
   "metadata": {},
   "outputs": [
    {
     "name": "stdout",
     "output_type": "stream",
     "text": [
      "Distancia en millas entre los dos planetas:  390577533.93\n"
     ]
    }
   ],
   "source": [
    "Dtierra = 149597870\n",
    "Djupiter= 778547200\n",
    "\n",
    "Distancebetweenplanets = Djupiter - Dtierra\n",
    "Dmillas = Distancebetweenplanets*0.621\n",
    "\n",
    "print(\"Distancia en millas entre los dos planetas:\",Dmillas)"
   ]
  },
  {
   "cell_type": "markdown",
   "metadata": {},
   "source": [
    "* Ejercicio 2"
   ]
  },
  {
   "cell_type": "code",
   "execution_count": 4,
   "metadata": {},
   "outputs": [
    {
     "name": "stdout",
     "output_type": "stream",
     "text": [
      "31236300.0\n"
     ]
    }
   ],
   "source": [
    "planet1 = input(\"Ingresa la distancia del planeta 1 al sol en Km\")\n",
    "planet2 = input(\"Ingresa la distancia del planet 2 al sol en km\")\n",
    "\n",
    "p1number = int(planet1)\n",
    "p2number = int(planet2)\n",
    "\n",
    "Calculo = abs(p2number - p1number)\n",
    "\n",
    "Resultadomillas = Calculo*0.621\n",
    "(Resultadomillas)\n"
   ]
  }
 ],
 "metadata": {
  "interpreter": {
   "hash": "b2e73303c7964b449604716ff7e7eb2786bcd7baaa7a77de01729f6940e7130c"
  },
  "kernelspec": {
   "display_name": "Python 3.10.2 64-bit",
   "language": "python",
   "name": "python3"
  },
  "language_info": {
   "codemirror_mode": {
    "name": "ipython",
    "version": 3
   },
   "file_extension": ".py",
   "mimetype": "text/x-python",
   "name": "python",
   "nbconvert_exporter": "python",
   "pygments_lexer": "ipython3",
   "version": "3.10.2"
  },
  "orig_nbformat": 4
 },
 "nbformat": 4,
 "nbformat_minor": 2
}
