{
 "cells": [
  {
   "cell_type": "code",
   "execution_count": 1,
   "metadata": {},
   "outputs": [
    {
     "name": "stdout",
     "output_type": "stream",
     "text": [
      "93\n"
     ]
    }
   ],
   "source": [
    "# Aplica el tip de práctica 1.\n",
    "a = 93\n",
    "b = 27\n",
    "if a >= b:\n",
    "    print(a)"
   ]
  },
  {
   "cell_type": "markdown",
   "metadata": {},
   "source": [
    "# Problema 1\n"
   ]
  },
  {
   "cell_type": "code",
   "execution_count": 2,
   "metadata": {},
   "outputs": [
    {
     "name": "stdout",
     "output_type": "stream",
     "text": [
      "Advertencia!, asteroide proximo a la tierra!\n"
     ]
    }
   ],
   "source": [
    "Vasteroide = 49 \n",
    "\n",
    "if Vasteroide > 25:\n",
    "    print(\"Advertencia!, asteroide proximo a la tierra!\")\n",
    "else:\n",
    "    print(\"Todo bien gente\")"
   ]
  },
  {
   "cell_type": "markdown",
   "metadata": {},
   "source": [
    "## Problema 2"
   ]
  },
  {
   "cell_type": "code",
   "execution_count": 14,
   "metadata": {},
   "outputs": [
    {
     "name": "stdout",
     "output_type": "stream",
     "text": [
      "Siga con su vida normal\n"
     ]
    }
   ],
   "source": [
    "Vasteroide = 19\n",
    "lightray=False\n",
    "\n",
    "if Vasteroide >= 20:\n",
    "    lightray = True\n",
    "    if lightray == True:\n",
    "        print(\"Peligro, busca un asteroide en el cielo!\")\n",
    "else:\n",
    "    print(\"Siga con su vida normal\")"
   ]
  },
  {
   "cell_type": "markdown",
   "metadata": {},
   "source": [
    "* Problema 3"
   ]
  },
  {
   "cell_type": "code",
   "execution_count": 39,
   "metadata": {},
   "outputs": [
    {
     "name": "stdout",
     "output_type": "stream",
     "text": [
      "Asteroide en orbita! busca un rayo de luz\n",
      "Asteroide gigante se aproxima a la tierra, busca refugio\n"
     ]
    }
   ],
   "source": [
    "Vasteroide = 25\n",
    "Tasteroide = 700\n",
    "\n",
    "if Tasteroide < 25 or Vasteroide <25:\n",
    "    print(\"No hay novedad\")\n",
    "elif Vasteroide >= 20:\n",
    "        print(\"Asteroide en orbita! busca un rayo de luz\")\n",
    "if Tasteroide > 25 and Tasteroide <1000:\n",
    "        print(\"Asteroide gigante se aproxima a la tierra, busca refugio\")\n",
    "else:\n",
    "    print(\"No hay novedad\")\n"
   ]
  }
 ],
 "metadata": {
  "interpreter": {
   "hash": "b2e73303c7964b449604716ff7e7eb2786bcd7baaa7a77de01729f6940e7130c"
  },
  "kernelspec": {
   "display_name": "Python 3.10.2 64-bit",
   "language": "python",
   "name": "python3"
  },
  "language_info": {
   "codemirror_mode": {
    "name": "ipython",
    "version": 3
   },
   "file_extension": ".py",
   "mimetype": "text/x-python",
   "name": "python",
   "nbconvert_exporter": "python",
   "pygments_lexer": "ipython3",
   "version": "3.10.2"
  },
  "orig_nbformat": 4
 },
 "nbformat": 4,
 "nbformat_minor": 2
}
