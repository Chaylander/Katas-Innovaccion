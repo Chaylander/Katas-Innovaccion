{
 "cells": [
  {
   "cell_type": "markdown",
   "metadata": {},
   "source": [
    "# Kata 8\n"
   ]
  },
  {
   "cell_type": "markdown",
   "metadata": {},
   "source": [
    "* Ejercicio 1: Crear y modificar un diccionario de Python"
   ]
  },
  {
   "cell_type": "code",
   "execution_count": 8,
   "metadata": {},
   "outputs": [
    {
     "name": "stdout",
     "output_type": "stream",
     "text": [
      "The name of the planet is Mars, and its polar circumference is 6752\n"
     ]
    }
   ],
   "source": [
    "planet = {\n",
    "    \"name\" : \"Mars\",\n",
    "    \"moons\" : 2\n",
    "    }\n",
    "\n",
    "#print(planet[\"name\"])\n",
    "#print(planet[\"moons\"])\n",
    "\n",
    "planet[\"Circumference\"] = {\"Polar\":6752, \n",
    "                            \"Equatorial\":6792}\n",
    "\n",
    "print(f'The name of the planet is {planet[\"name\"]}, and its polar circumference is {planet[\"Circumference\"][\"Polar\"]}')"
   ]
  },
  {
   "cell_type": "markdown",
   "metadata": {},
   "source": [
    "* Ejercicio 2 Programación dinámica con diccionarios"
   ]
  },
  {
   "cell_type": "code",
   "execution_count": 3,
   "metadata": {},
   "outputs": [
    {
     "name": "stdout",
     "output_type": "stream",
     "text": [
      "dict_values([0, 0, 1, 2, 79, 82, 27, 14, 5, 2, 1, 1])\n",
      "214\n",
      "12\n",
      "The average is 17.833333333333332 moons per planet\n"
     ]
    }
   ],
   "source": [
    "# Planets and moons\n",
    "\n",
    "planet_moons = {\n",
    "    'mercury': 0,\n",
    "    'venus': 0,\n",
    "    'earth': 1,\n",
    "    'mars': 2,\n",
    "    'jupiter': 79,\n",
    "    'saturn': 82,\n",
    "    'uranus': 27,\n",
    "    'neptune': 14,\n",
    "    'pluto': 5,\n",
    "    'haumea': 2,\n",
    "    'makemake': 1,\n",
    "    'eris': 1\n",
    "}\n",
    "\n",
    "#Tomar los values del diccionario, en este caso el numero de lunas\n",
    "moons = planet_moons.values()\n",
    "print(moons)\n",
    "\n",
    "\n",
    "total_moons=0\n",
    "for x in moons:\n",
    "    total_moons = x+total_moons\n",
    "\n",
    "print(total_moons)\n",
    "\n",
    "#numero de planetas\n",
    "planets = len(planet_moons.keys())\n",
    "print(planets)\n",
    "\n",
    "average = total_moons/planets\n",
    "print(f'The average is {average} moons per planet')"
   ]
  }
 ],
 "metadata": {
  "interpreter": {
   "hash": "b2e73303c7964b449604716ff7e7eb2786bcd7baaa7a77de01729f6940e7130c"
  },
  "kernelspec": {
   "display_name": "Python 3.10.2 64-bit",
   "language": "python",
   "name": "python3"
  },
  "language_info": {
   "codemirror_mode": {
    "name": "ipython",
    "version": 3
   },
   "file_extension": ".py",
   "mimetype": "text/x-python",
   "name": "python",
   "nbconvert_exporter": "python",
   "pygments_lexer": "ipython3",
   "version": "3.10.2"
  },
  "orig_nbformat": 4
 },
 "nbformat": 4,
 "nbformat_minor": 2
}
